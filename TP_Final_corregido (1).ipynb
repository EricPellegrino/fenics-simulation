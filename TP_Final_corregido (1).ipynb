{
  "cells": [
    {
      "cell_type": "markdown",
      "metadata": {
        "id": "fVdiO2tZx73z"
      },
      "source": [
        "## Importamos Fenics"
      ]
    },
    {
      "cell_type": "code",
      "execution_count": 55,
      "metadata": {
        "id": "F8_l1IsIx8rx"
      },
      "outputs": [],
      "source": [
        "%%capture\n",
        "try:\n",
        "    import dolfin\n",
        "except ImportError:\n",
        "    !wget \"https://fem-on-colab.github.io/releases/fenics-install-real.sh\" -O \"/tmp/fenics-install.sh\" && bash \"/tmp/fenics-install.sh\"\n",
        "    import dolfin\n"
      ]
    },
    {
      "cell_type": "markdown",
      "metadata": {
        "id": "2hp6fJtayAaR"
      },
      "source": [
        "## Importamos la malla"
      ]
    },
    {
      "cell_type": "code",
      "execution_count": 56,
      "metadata": {
        "colab": {
          "base_uri": "https://localhost:8080/"
        },
        "id": "i5NZdZhdyAvh",
        "outputId": "66517853-ee0c-42de-c89e-5f6f0de018fe"
      },
      "outputs": [
        {
          "output_type": "stream",
          "name": "stdout",
          "text": [
            "Converting from Gmsh format (.msh, .gmsh) to DOLFIN XML format\n",
            "Expecting 7424 vertices\n",
            "Found all vertices\n",
            "Expecting 33444 cells\n",
            "Found all cells\n",
            "Conversion done\n"
          ]
        }
      ],
      "source": [
        "%%bash\n",
        "dolfin-convert malla.msh malla.xml\n",
        "#dolfin-convert Actividad2_gmsh.msh Actividad2_gmsh.xml\n"
      ]
    },
    {
      "cell_type": "code",
      "execution_count": 57,
      "metadata": {
        "id": "JI_giNyDyPrR"
      },
      "outputs": [],
      "source": [
        "from fenics import *\n",
        "\n",
        "mesh = Mesh(\"malla.xml\");\n",
        "subdomains = MeshFunction('size_t',mesh,\"malla_physical_region.xml\");\n",
        "boundary_markers = MeshFunction('size_t',mesh,\"malla_facet_region.xml\");\n",
        "\n",
        "#mesh = Mesh(\"Actividad2_gmsh.xml\");\n",
        "#subdomains = MeshFunction('size_t',mesh,\"Actividad2_gmsh_physical_region.xml\");\n",
        "#boundary_markers = MeshFunction('size_t',mesh,\"Actividad2_gmsh_facet_region.xml\");\n"
      ]
    },
    {
      "cell_type": "markdown",
      "metadata": {
        "id": "Hf01sK37zC8s"
      },
      "source": [
        "## Desarrollanos el problema"
      ]
    },
    {
      "cell_type": "markdown",
      "metadata": {
        "id": "x1lVpdv0zD1J"
      },
      "source": [
        "`Definimos espacios de funciones`"
      ]
    },
    {
      "cell_type": "code",
      "execution_count": 58,
      "metadata": {
        "id": "SoyESem1zH3g"
      },
      "outputs": [],
      "source": [
        "# Definir el espacio de funciones para la temperatura (escalar)\n",
        "P1 = FiniteElement(\"Lagrange\", mesh.ufl_cell(), 1)\n",
        "VT = FunctionSpace(mesh, P1)\n",
        "\n",
        "# Definir el espacio de funciones para el desplazamiento (vectorial, 3D)\n",
        "P2 = VectorElement(\"Lagrange\", mesh.ufl_cell(), 1)\n",
        "Vu = FunctionSpace(mesh, P2)\n"
      ]
    },
    {
      "cell_type": "markdown",
      "metadata": {
        "id": "ABE4kAmeouca"
      },
      "source": [
        "`Definimos constantes y condiciones de borde`"
      ]
    },
    {
      "cell_type": "code",
      "execution_count": 59,
      "metadata": {
        "id": "UWiMiwvw3sdt"
      },
      "outputs": [],
      "source": [
        "# Parámetros físicos\n",
        "mu = Constant(1.0)  # Módulo de elasticidad\n",
        "kappa = Constant(1.0)  # Conductividad térmica\n",
        "\n",
        "# Definir condiciones de borde\n",
        "L = 10.0  # Longitud del extremo derecho (ajustar según la geometría)\n",
        "T_criogenica = -100.0  # Temperatura criogénica\n",
        "T_ambiente = 20.0  # Temperatura ambiente\n",
        "torque_magnitud = 0.1  # Magnitud del torque aplicado\n",
        "\n",
        "# Función para el extremo derecho (voladizo)\n",
        "def right_end(x, on_boundary):\n",
        "    return near(x[0], L) and on_boundary\n",
        "\n",
        "def left_end(x, on_boundary):\n",
        "    return (near(x[0], 0) or near(x[0], L)) and on_boundary\n",
        "\n",
        "# Condiciones de temperatura\n",
        "bc_T_criogenica = DirichletBC(VT, Constant(T_criogenica),boundary_markers, 10)\n",
        "bc_T_ambiente = DirichletBC(VT, Constant(T_ambiente),boundary_markers, 20)\n",
        "\n",
        "# Condiciones de desplazamiento\n",
        "bcu = DirichletBC(Vu, Constant((0, 0, 0)), boundary_markers, 20)\n"
      ]
    },
    {
      "cell_type": "markdown",
      "metadata": {
        "id": "Z-3f58strtUU"
      },
      "source": [
        "`Definimos formulaciones variacionales`"
      ]
    },
    {
      "cell_type": "code",
      "execution_count": 60,
      "metadata": {
        "id": "d46eTLhvrtmb"
      },
      "outputs": [],
      "source": [
        "# Variables simbólicas\n",
        "dT = TrialFunction(VT)\n",
        "T_ = TestFunction(VT)\n",
        "du = TrialFunction(Vu)\n",
        "u_ = TestFunction(Vu)\n",
        "T_sol = Function(VT)\n",
        "\n",
        "# Formulación variacional para temperatura (conducción de calor)\n",
        "a_T = inner(grad(dT), kappa * grad(T_)) * dx\n",
        "L_T = Constant(0) * dT * dx\n",
        "\n",
        "# Variables elasticas\n",
        "sigma = lambda u: 2.0 * mu * sym(grad(u))\n",
        "epsilon = lambda u: sym(grad(u))\n",
        "\n",
        "# Medida para la aplicación de condiciones en el contorno\n",
        "ds = Measure('ds', domain=mesh, subdomain_data=boundary_markers)\n",
        "\n",
        "# Arreglo vectorial del torque\n",
        "e3 = Constant((0, 0, 1)) # Eje z unitario\n",
        "r = as_vector((0, 1, 0)) # Vector radial\n",
        "torque = torque_magnitud * cross(r, e3) # Torque como un momento: tau = r x F\n",
        "\n",
        "# Formulación variacional para elasticidad lineal\n",
        "a_M = inner(sigma(du), epsilon(u_)) * dx\n",
        "L_M = inner(torque, u_) * ds(10)\n",
        "#L_M = inner(Constant((0, 0, 0)), u_) * dx + inner(Constant((0, 0, T_aplicado)), u_) * ds(10)\n",
        "#L_M = inner(Constant((0, 0)), u_) * dx + inner(Constant((0, T_aplicado)), u_) * ds\n"
      ]
    },
    {
      "cell_type": "markdown",
      "metadata": {
        "id": "Rt-gEyKdru_b"
      },
      "source": [
        "`Resolvemos los problemas y lo guardamos`"
      ]
    },
    {
      "cell_type": "code",
      "execution_count": 63,
      "metadata": {
        "id": "NG3nNnL2rvRj"
      },
      "outputs": [],
      "source": [
        "# Resolver problema de temperatura\n",
        "A_T, b_T = assemble_system(a_T, L_T, bc_T_criogenica)\n",
        "solve(A_T, T_sol.vector(), b_T)\n",
        "\n",
        "# Resolver problema de elasticidad\n",
        "A_M, b_M = assemble_system(a_M, L_M, bcu)\n",
        "u_sol = Function(Vu)\n",
        "solve(A_M, u_sol.vector(), b_M)\n",
        "\n",
        "# Guardar solución de temperatura y desplazamiento en archivos\n",
        "file_T = File(\"temperatura.pvd\")\n",
        "file_T << T_sol\n",
        "\n",
        "file_u = File(\"desplazamiento.pvd\")\n",
        "file_u << u_sol\n"
      ]
    }
  ],
  "metadata": {
    "colab": {
      "provenance": []
    },
    "kernelspec": {
      "display_name": "Python 3 (ipykernel)",
      "language": "python",
      "name": "python3"
    },
    "language_info": {
      "codemirror_mode": {
        "name": "ipython",
        "version": 3
      },
      "file_extension": ".py",
      "mimetype": "text/x-python",
      "name": "python",
      "nbconvert_exporter": "python",
      "pygments_lexer": "ipython3",
      "version": "3.10.12"
    }
  },
  "nbformat": 4,
  "nbformat_minor": 0
}